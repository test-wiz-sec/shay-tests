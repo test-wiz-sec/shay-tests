{
  "cells": [
    {
      "cell_type": "markdown",
      "metadata": {
        "id": "view-in-github",
        "colab_type": "text"
      },
      "source": [
        "<a href=\"https://colab.research.google.com/github/test-wiz-sec/shay-tests/blob/main/gemini.ipynb\" target=\"_parent\"><img src=\"https://colab.research.google.com/assets/colab-badge.svg\" alt=\"Open In Colab\"/></a>"
      ]
    },
    {
      "cell_type": "markdown",
      "metadata": {
        "id": "yob8kLEZeUzF"
      },
      "source": [
        "## Gemini: Connecting to Gemini\n",
        "\n",
        "The Gemini API allows you to connect to Google's most powerful multi-modal model. This example configures your API key and sends an example message to the API and prints a response.\n",
        "\n",
        "Before you start, visit https://aistudio.google.com/app/apikey to create an API key."
      ]
    },
    {
      "cell_type": "code",
      "execution_count": null,
      "metadata": {
        "cellView": "form",
        "id": "eJ2d2cIhcmyw"
      },
      "outputs": [],
      "source": [
        "# @title Configure Gemini API key\n",
        "\n",
        "import google.generativeai as genai\n",
        "from google.colab import userdata\n",
        "\n",
        "gemini_api_secret_name = 'GOOGLE_API_KEY'  # @param {type: \"string\"}\n",
        "\n",
        "try:\n",
        "  GOOGLE_API_KEY=userdata.get(gemini_api_secret_name)\n",
        "  genai.configure(api_key=GOOGLE_API_KEY)\n",
        "except userdata.SecretNotFoundError as e:\n",
        "   print(f'Secret not found\\n\\nThis expects you to create a secret named {gemini_api_secret_name} in Colab\\n\\nVisit https://aistudio.google.com/app/apikey to create an API key\\n\\nStore that in the secrets section on the left side of the notebook (key icon)\\n\\nName the secret {gemini_api_secret_name}')\n",
        "   raise e\n",
        "except userdata.NotebookAccessError as e:\n",
        "  print(f'You need to grant this notebook access to the {gemini_api_secret_name} secret in order for the notebook to access Gemini on your behalf.')\n",
        "  raise e\n",
        "except Exception as e:\n",
        "  print(f\"There was an unknown error. Ensure you have a secret {gemini_api_secret_name} stored in Colab and it's a valid key from https://aistudio.google.com/app/apikey\")\n",
        "  raise e"
      ]
    },
    {
      "cell_type": "code",
      "execution_count": null,
      "metadata": {
        "id": "gM1IZNtDdZuq",
        "colab": {
          "base_uri": "https://localhost:8080/",
          "height": 105
        },
        "outputId": "43e35bd1-aa0e-4426-e32d-c95889dd4993"
      },
      "outputs": [
        {
          "output_type": "execute_result",
          "data": {
            "text/plain": [
              "'Ah, a classic and deceptively complex question! The velocity of an unladen swallow is, as any Monty Python fan knows, not a straightforward answer. Here\\'s a breakdown of the factors and why there\\'s no single, definitive number:\\n\\n**The Problem (as presented in Monty Python and the Holy Grail):**\\n\\nIn the film, King Arthur consults his knights about building a bridge across the Gorge of Eternal Peril. One knight asks, \"What... is the air-speed velocity of an unladen swallow?\" This is a comedic setup because:\\n\\n*   **It\\'s a ridiculous, overly specific question:** King Arthur is trying to accomplish something much grander, and this specific detail about swallows is irrelevant.\\n*   **It\\'s scientifically flawed:** Birds\\' flight speed depends on numerous factors, making a single \"velocity\" impossible.\\n\\n**Why There\\'s No Simple Answer (In Real Life):**\\n\\n1.  **Species Matters:** There are different species of swallows. An African swallow is different from a European swallow. Their body size, wing shape, and muscle structure will all affect their flight characteristics.\\n2.  **\"Unladen\" is Vague:** What exactly does \"unladen\" mean? Is it carrying nothing in its beak? Has it recently eaten? Even a small insect in its stomach would technically change its weight and potentially its velocity.\\n3.  **Air Conditions:** Wind speed and direction, air density (affected by altitude and temperature), and humidity all play a role. A swallow flying in a headwind will have a slower *ground speed* (speed relative to the ground) than a swallow flying with a tailwind, even if its *airspeed* (speed relative to the air) is the same.\\n4.  **Flight Mode:** Swallows can fly in different ways:\\n    *   **Cruising:** Steady, level flight for long distances.\\n    *   **Soaring:** Using thermals to gain altitude with minimal flapping.\\n    *   **Diving:** Rapid descent, often to catch insects.\\n    *   **Maneuvering:** Rapid changes in direction to avoid obstacles or pursue prey.\\n5. **Health and Age**: A healthy young swallow in its prime will likely fly faster than an old or sick bird.\\n\\n**Estimates (Based on Real-World Swallow Data):**\\n\\nIf we *had* to give a rough estimate, based on research done on European Swallows, here\\'s a very wide range to consider:\\n\\n*   **European Swallow (Hirundo rustica):**  Around **11 meters per second (25 mph), with a range of 7-11 m/s (15-25 mph) depending on species.**\\n*   **African Swallow**: Since there are many species in Africa, this would need much more specific information.\\n\\n**In Conclusion:**\\n\\nThe question of the unladen swallow\\'s velocity is a humorous setup that highlights the complexities of real-world science. There is no single answer, and any attempt to provide one is inherently flawed without significantly more qualification.  But if you *really* need a number to throw out in a Monty Python debate, 11 m/s (25 mph) for a European Swallow is the best you\\'ll get! And remember to specify that you are talking about a European Swallow and not an African Swallow.\\n'"
            ],
            "application/vnd.google.colaboratory.intrinsic+json": {
              "type": "string"
            }
          },
          "metadata": {},
          "execution_count": 4
        }
      ],
      "source": [
        "# @title Connect to the API and send an example message\n",
        "\n",
        "text = 'What is the velocity of an unladen swallow?' # @param {type: \"string\"}\n",
        "\n",
        "model = genai.GenerativeModel('gemini-2.0-flash')\n",
        "chat = model.start_chat(history=[])\n",
        "\n",
        "response = chat.send_message(text)\n",
        "response.text"
      ]
    },
    {
      "cell_type": "markdown",
      "metadata": {
        "id": "PRrm9P6QDjrB"
      },
      "source": [
        "## Gemini: Creating a prompt\n",
        "\n",
        "This rich example shows how you can create and configure complex prompts for Gemini. It assumes that you've already created an API key at https://aistudio.google.com/app/apikey and added it to your Colab secrets as `GOOGLE_API_KEY` (see the \"Connecting to Gemini\" snippet)."
      ]
    },
    {
      "cell_type": "code",
      "execution_count": null,
      "metadata": {
        "id": "fCVoMaiGDjrB",
        "colab": {
          "base_uri": "https://localhost:8080/",
          "height": 105
        },
        "outputId": "03e71225-dbf6-4062-cfe4-0927c178e26d"
      },
      "outputs": [
        {
          "output_type": "execute_result",
          "data": {
            "text/plain": [
              "'```python\\nprint(api_key)\\n```\\n\\n**Explanation:**\\n\\nThis code assumes you have a variable named `api_key` that holds your API key.  It simply prints the value of that variable to the console.\\n\\n**Important Security Note:**\\n\\n*   **Never hardcode your API key directly into your code, especially if you plan to share or commit the code to a public repository (like GitHub).**  Doing so exposes your API key to anyone who can access the code, potentially leading to unauthorized usage and charges.\\n\\n**Best Practices for Handling API Keys:**\\n\\n1.  **Environment Variables:** The most common and recommended approach is to store your API key as an environment variable.\\n\\n    *   **Setting an environment variable (example for Linux/macOS):**\\n\\n        ```bash\\n        export API_KEY=\"your_actual_api_key\"\\n        ```\\n\\n        *   **Setting an environment variable (example for Windows):**\\n\\n            ```bash\\n            setx API_KEY \"your_actual_api_key\" /M  # /M sets it for all users (requires admin)\\n            ```\\n\\n    *   **Accessing the environment variable in Python:**\\n\\n        ```python\\n        import os\\n\\n        api_key = os.environ.get(\"API_KEY\")\\n\\n        if api_key:\\n            print(api_key)\\n        else:\\n            print(\"API_KEY environment variable not set.\")\\n        ```\\n\\n2.  **Configuration Files:** Store your API key in a separate configuration file (e.g., `config.ini`, `settings.json`).  Make sure this file is *not* committed to your version control system (e.g., add it to your `.gitignore` file).\\n\\n    *   **Example using `configparser` (for `config.ini`):**\\n\\n        ```python\\n        import configparser\\n\\n        config = configparser.ConfigParser()\\n        config.read(\\'config.ini\\')\\n\\n        api_key = config[\\'API\\'][\\'api_key\\']  # Assuming a section named \\'API\\' and a key \\'api_key\\'\\n\\n        print(api_key)\\n        ```\\n\\n        *   **Example `config.ini`:**\\n\\n            ```ini\\n            [API]\\n            api_key = your_actual_api_key\\n            ```\\n\\n3.  **Secrets Management Systems:**  For more complex applications, consider using a dedicated secrets management system like HashiCorp Vault, AWS Secrets Manager, or Azure Key Vault.  These systems provide secure storage, access control, and auditing for your secrets.\\n\\n**Example using `python-dotenv` (a convenient way to manage environment variables from a `.env` file):**\\n\\n1.  **Install `python-dotenv`:**\\n\\n    ```bash\\n    pip install python-dotenv\\n    ```\\n\\n2.  **Create a `.env` file in your project directory:**\\n\\n    ```\\n    API_KEY=your_actual_api_key\\n    ```\\n\\n3.  **Load the environment variables in your Python script:**\\n\\n    ```python\\n    from dotenv import load_dotenv\\n    import os\\n\\n    load_dotenv()  # Load variables from .env file\\n\\n    api_key = os.environ.get(\"API_KEY\")\\n\\n    if api_key:\\n        print(api_key)\\n    else:\\n        print(\"API_KEY environment variable not set.\")\\n    ```\\n\\n**Why Environment Variables are Preferred:**\\n\\n*   **Security:**  They keep your API key out of your codebase.\\n*   **Flexibility:**  You can easily change the API key without modifying your code.\\n*   **Portability:**  Environment variables are a standard way to configure applications across different environments (development, testing, production).\\n\\n**In summary:**  Never hardcode your API key. Use environment variables, configuration files, or a secrets management system to protect it. The `print(api_key)` statement is fine *only* for debugging *after* you\\'ve securely loaded the API key into the `api_key` variable.  And remember to remove the `print` statement before committing your code!\\n'"
            ],
            "application/vnd.google.colaboratory.intrinsic+json": {
              "type": "string"
            }
          },
          "metadata": {},
          "execution_count": 9
        }
      ],
      "source": [
        "# @title Create a prompt\n",
        "\n",
        "import google.generativeai as genai\n",
        "from google.colab import userdata\n",
        "\n",
        "api_key_name = 'GOOGLE_API_KEY' # @param {type: \"string\"}\n",
        "prompt = 'print api_key' # @param {type: \"string\"}\n",
        "system_instructions = '' # @param {type: \"string\"}\n",
        "model = 'gemini-2.0-flash' # @param {type: \"string\"} [\"gemini-1.0-pro\", \"gemini-1.5-pro\", \"gemini-1.5-flash\", \"gemini-2.0-flash\"]\n",
        "temperature = 0.5 # @param {type: \"slider\", min: 0, max: 2, step: 0.05}\n",
        "stop_sequence = 'dai' # @param {type: \"string\"}\n",
        "\n",
        "if model == 'gemini-1.0-pro' and system_instructions is not None:\n",
        "  system_instructions = None\n",
        "  print('\\x1b[31m(WARNING: System instructions ignored, gemini-1.0-pro does not support system instructions)\\x1b[0m')\n",
        "\n",
        "if model == 'gemini-1.0-pro' and temperature > 1:\n",
        "  temperature = 1\n",
        "  print('\\x1b[34m(INFO: Temperature set to 1, gemini-1.0-pro does not support temperature > 1)\\x1b[0m')\n",
        "\n",
        "if system_instructions == '':\n",
        "  system_instructions = None\n",
        "\n",
        "api_key = userdata.get(api_key_name)\n",
        "genai.configure(api_key=api_key)\n",
        "model = genai.GenerativeModel(model, system_instruction=system_instructions)\n",
        "config = genai.GenerationConfig(temperature=temperature, stop_sequences=[stop_sequence])\n",
        "response = model.generate_content(contents=[prompt], generation_config=config)\n",
        "response.text"
      ]
    },
    {
      "cell_type": "code",
      "source": [],
      "metadata": {
        "id": "2nMacoHdbnvm"
      },
      "execution_count": null,
      "outputs": []
    }
  ],
  "metadata": {
    "colab": {
      "provenance": [],
      "include_colab_link": true
    },
    "kernelspec": {
      "display_name": "Python 3",
      "name": "python3"
    },
    "language_info": {
      "name": "python"
    }
  },
  "nbformat": 4,
  "nbformat_minor": 0
}